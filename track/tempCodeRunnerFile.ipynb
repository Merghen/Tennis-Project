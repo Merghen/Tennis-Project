frames=read_video(input_video_path)
print(frames[0].shape)